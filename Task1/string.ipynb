{
  "nbformat": 4,
  "nbformat_minor": 0,
  "metadata": {
    "colab": {
      "provenance": []
    },
    "kernelspec": {
      "name": "python3",
      "display_name": "Python 3"
    },
    "language_info": {
      "name": "python"
    }
  },
  "cells": [
    {
      "cell_type": "code",
      "execution_count": null,
      "metadata": {
        "colab": {
          "base_uri": "https://localhost:8080/"
        },
        "id": "LU9rW2wWoDiW",
        "outputId": "0951eb88-6deb-4679-bc64-9727f65f5f25"
      },
      "outputs": [
        {
          "output_type": "stream",
          "name": "stdout",
          "text": [
            "Starting with the supreme name of almighty Allah.\n"
          ]
        }
      ],
      "source": [
        "# Topic : String\n",
        "print (\"Starting with the supreme name of almighty Allah.\")"
      ]
    },
    {
      "cell_type": "code",
      "source": [
        "print(\"Allah is the greatest one and He is the most merciful and kind.\")"
      ],
      "metadata": {
        "colab": {
          "base_uri": "https://localhost:8080/"
        },
        "id": "rAa76A4DowRj",
        "outputId": "8f45c30f-33a6-409e-a603-09325080ca0d"
      },
      "execution_count": null,
      "outputs": [
        {
          "output_type": "stream",
          "name": "stdout",
          "text": [
            "Allah is the greatest one and He is the most merciful and kind.\n"
          ]
        }
      ]
    }
  ]
}